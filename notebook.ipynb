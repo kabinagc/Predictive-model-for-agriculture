{
 "cells": [
  {
   "cell_type": "markdown",
   "id": "a2d280d9-870b-4f9c-8c02-92e26ebdb0ed",
   "metadata": {},
   "source": [
    "# Sowing Success: How Machine Learning Helps Farmers Select the Best Crops\n",
    "\n",
    "Measuring essential soil metrics such as nitrogen, phosphorous, potassium levels, and pH value is an important aspect of assessing soil condition. However, it can be an expensive and time-consuming process, which can cause farmers to prioritize which metrics to measure based on their budget constraints.\n",
    "\n",
    "Farmers have various options when it comes to deciding which crop to plant each season. Their primary objective is to maximize the yield of their crops, taking into account different factors. One crucial factor that affects crop growth is the condition of the soil in the field, which can be assessed by measuring basic elements such as nitrogen and potassium levels. Each crop has an ideal soil condition that ensures optimal growth and maximum yield.\n",
    "\n",
    "A farmer reached out to you as a machine learning expert for assistance in selecting the best crop for his field. They've provided you with a dataset called `soil_measures.csv`, which contains:\n",
    "\n",
    "- `\"N\"`: Nitrogen content ratio in the soil\n",
    "- `\"P\"`: Phosphorous content ratio in the soil\n",
    "- `\"K\"`: Potassium content ratio in the soil\n",
    "- `\"pH\"` value of the soil\n",
    "- `\"crop\"`: categorical values that contain various crops (target variable).\n",
    "\n",
    "Each row in this dataset represents various measures of the soil in a particular field. Based on these measurements, the crop specified in the `\"crop\"` column is the optimal choice for that field.  \n",
    "\n",
    "In this project, you will build multi-class classification models to predict the type of `\"crop\"` and identify the single most importance feature for predictive performance."
   ]
  },
  {
   "cell_type": "code",
   "execution_count": 3,
   "id": "d0eb4f16-5a99-460d-a5ba-706b7ef0bbe7",
   "metadata": {
    "executionCancelledAt": null,
    "executionTime": 981,
    "id": "bA5ajAmk7XH6",
    "lastExecutedAt": 1710147609034,
    "lastScheduledRunId": null,
    "lastSuccessfullyExecutedCode": "# All required libraries are imported here for you.\nimport pandas as pd\nfrom sklearn.linear_model import LogisticRegression\nfrom sklearn.model_selection import train_test_split\nfrom sklearn.metrics import accuracy_score\n\n# Load the dataset\ncrops = pd.read_csv(\"soil_measures.csv\")\n\n# Write your code here\nX = crops.drop(columns = ['crop'])  # Corrected the column name to 'crop'\nY = crops['crop']\n\nbest_feature = None\nbest_score = 0\n\nfor feature in X.columns:\n    X_feature = X[feature].values.reshape(-1,1)\n    X_train, X_test, Y_train, Y_test = train_test_split(X_feature, Y, test_size = 0.3, random_state = 42)  # Corrected function name to 'train_test_split'\n    \n    model = LogisticRegression()\n    model.fit(X_train, Y_train)\n    \n    Y_pred = model.predict(X_test)\n    score = accuracy_score(Y_test, Y_pred)  # Corrected the function call by removing extra parenthesis\n    \n    if score > best_score:\n        best_feature = feature\n        best_score = score\n        \nbest_predictive_feature = {best_feature: best_score}\nprint(\"Best Predictive Feature\", best_predictive_feature)",
    "outputsMetadata": {
     "0": {
      "height": 37,
      "type": "stream"
     }
    }
   },
   "outputs": [
    {
     "name": "stdout",
     "output_type": "stream",
     "text": [
      "Best Predictive Feature: {'K': 0.2409090909090909}\n"
     ]
    }
   ],
   "source": [
    "import pandas as pd\n",
    "from sklearn.linear_model import LogisticRegression\n",
    "from sklearn.model_selection import train_test_split\n",
    "from sklearn.metrics import accuracy_score\n",
    "from sklearn.preprocessing import StandardScaler\n",
    "\n",
    "# Load the dataset\n",
    "crops = pd.read_csv(\"soil_measures.csv\")\n",
    "\n",
    "# Write your code here\n",
    "X = crops.drop(columns=['crop'])\n",
    "Y = crops['crop']\n",
    "\n",
    "best_feature = None\n",
    "best_score = 0\n",
    "\n",
    "scaler = StandardScaler()\n",
    "\n",
    "for feature in X.columns:\n",
    "    X_feature = X[feature].values.reshape(-1, 1)\n",
    "    X_feature_scaled = scaler.fit_transform(X_feature)\n",
    "    X_train, X_test, Y_train, Y_test = train_test_split(X_feature_scaled, Y, test_size=0.3, random_state=42)\n",
    "\n",
    "    model = LogisticRegression(max_iter=1000)  # Increased max_iter\n",
    "    model.fit(X_train, Y_train)\n",
    "\n",
    "    Y_pred = model.predict(X_test)\n",
    "    score = accuracy_score(Y_test, Y_pred)\n",
    "\n",
    "    if score > best_score:\n",
    "        best_feature = feature\n",
    "        best_score = score\n",
    "\n",
    "best_predictive_feature = {best_feature: best_score}\n",
    "print(\"Best Predictive Feature:\", best_predictive_feature)\n"
   ]
  },
  {
   "cell_type": "code",
   "execution_count": null,
   "id": "abeb4b2b-0a5b-4d11-b2d9-fa28c8550c8b",
   "metadata": {},
   "outputs": [],
   "source": []
  }
 ],
 "metadata": {
  "colab": {
   "name": "Welcome to DataCamp Workspaces.ipynb",
   "provenance": []
  },
  "kernelspec": {
   "display_name": "Python 3 (ipykernel)",
   "language": "python",
   "name": "python3"
  },
  "language_info": {
   "codemirror_mode": {
    "name": "ipython",
    "version": 3
   },
   "file_extension": ".py",
   "mimetype": "text/x-python",
   "name": "python",
   "nbconvert_exporter": "python",
   "pygments_lexer": "ipython3",
   "version": "3.11.5"
  }
 },
 "nbformat": 4,
 "nbformat_minor": 5
}
